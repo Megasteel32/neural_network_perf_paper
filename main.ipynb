{
 "cells": [
  {
   "metadata": {},
   "cell_type": "markdown",
   "source": "### Check for GPU avaliability and filter PyTorch warnings",
   "id": "2573dd82b98a42b"
  },
  {
   "metadata": {},
   "cell_type": "code",
   "source": [
    "import torch\n",
    "import warnings\n",
    "warnings.filterwarnings(\"ignore\", \"You are using `torch.load` with `weights_only=False`*.\")\n",
    "\n",
    "print(f\"PyTorch version: {torch.__version__}\")\n",
    "print(f\"CUDA available: {torch.cuda.is_available()}\")\n",
    "if torch.cuda.is_available():\n",
    "    print(f\"GPU device: {torch.cuda.get_device_name(0)}\")\n",
    "\n",
    "device = torch.device(\"cuda\" if torch.cuda.is_available() else \"cpu\")\n",
    "print(f\"Device: {device}\")"
   ],
   "id": "78b74c9cb9d3691a",
   "outputs": [],
   "execution_count": null
  },
  {
   "cell_type": "markdown",
   "id": "b0c52353ebe5ee70",
   "metadata": {},
   "source": "### Download the EMNIST dataset and save it as PyTorch tensors"
  },
  {
   "cell_type": "code",
   "id": "initial_id",
   "metadata": {
    "collapsed": true,
    "jupyter": {
     "outputs_hidden": true
    }
   },
   "source": [
    "from emnist_download import prepare_emnist_dataset\n",
    "train_images, train_labels, test_images, test_labels = prepare_emnist_dataset()"
   ],
   "outputs": [],
   "execution_count": null
  },
  {
   "metadata": {},
   "cell_type": "markdown",
   "source": "### Augment the EMNIST dataset 9 times (to create a dataset 10x EMNIST)",
   "id": "e4c3339f01448bc0"
  },
  {
   "metadata": {},
   "cell_type": "code",
   "source": [
    "from dataset_augmenter import augment_emnist_dataset\n",
    "\n",
    "augmented_images, augmented_labels = augment_emnist_dataset()"
   ],
   "id": "f0cee92ea333c1d7",
   "outputs": [],
   "execution_count": null
  },
  {
   "metadata": {},
   "cell_type": "markdown",
   "source": "### Create your own MNIST-like dataset",
   "id": "9f1701e987f4c3"
  },
  {
   "cell_type": "code",
   "id": "1a9f65d794d81b22",
   "metadata": {},
   "source": [
    "from novel_digits import create_or_load_novel_digits_dataset\n",
    "novel_dataset = create_or_load_novel_digits_dataset()"
   ],
   "outputs": [],
   "execution_count": null
  },
  {
   "metadata": {},
   "cell_type": "markdown",
   "source": "### Train basic NN model on EMNIST",
   "id": "f53afb88cf8cc763"
  },
  {
   "cell_type": "code",
   "id": "f9db662466976c43",
   "metadata": {},
   "source": [
    "from train import train_model\n",
    "\n",
    "model = train_model(\"basenn\", use_augmentation=False)"
   ],
   "outputs": [],
   "execution_count": null
  },
  {
   "metadata": {},
   "cell_type": "markdown",
   "source": "### Train partial CNN model on EMNIST",
   "id": "2b355d0bbfdb7e0f"
  },
  {
   "metadata": {},
   "cell_type": "code",
   "source": [
    "from train import train_model\n",
    "\n",
    "model = train_model(\"partialcnn\", use_augmentation=False)"
   ],
   "id": "e75f5e7e45ad864f",
   "outputs": [],
   "execution_count": null
  },
  {
   "metadata": {},
   "cell_type": "markdown",
   "source": "### Train full CNN model on EMNIST",
   "id": "8b961ba5de43d15e"
  },
  {
   "metadata": {},
   "cell_type": "code",
   "source": [
    "from train import train_model\n",
    "\n",
    "model = train_model(\"fullcnn\", use_augmentation=False)"
   ],
   "id": "f68fd14969123690",
   "outputs": [],
   "execution_count": null
  },
  {
   "metadata": {},
   "cell_type": "markdown",
   "source": "### Train RNN model on EMNIST",
   "id": "2caf683698738af"
  },
  {
   "metadata": {},
   "cell_type": "code",
   "source": [
    "from train import train_model\n",
    "\n",
    "model = train_model(\"rnn\", use_augmentation=False)"
   ],
   "id": "8316a7ad97da1a7b",
   "outputs": [],
   "execution_count": null
  },
  {
   "metadata": {},
   "cell_type": "markdown",
   "source": "### Train NN model on augmented EMNIST",
   "id": "1e5918400b0ad30a"
  },
  {
   "cell_type": "code",
   "id": "75217807e1b57973",
   "metadata": {},
   "source": [
    "from train import train_model\n",
    "\n",
    "model = train_model(\"basenn\", use_augmentation=True)"
   ],
   "outputs": [],
   "execution_count": null
  },
  {
   "metadata": {},
   "cell_type": "markdown",
   "source": "### Train partial CNN model on augmented EMNIST",
   "id": "a271ce6f2d394cd8"
  },
  {
   "metadata": {},
   "cell_type": "code",
   "source": [
    "from train import train_model\n",
    "\n",
    "model = train_model(\"partialcnn\", use_augmentation=True)"
   ],
   "id": "465ee234959dd546",
   "outputs": [],
   "execution_count": null
  },
  {
   "metadata": {},
   "cell_type": "markdown",
   "source": "### Train full CNN model on augmented EMNIST",
   "id": "b87c775dae3115e"
  },
  {
   "metadata": {},
   "cell_type": "code",
   "source": [
    "from train import train_model\n",
    "\n",
    "model = train_model(\"fullcnn\", use_augmentation=True)"
   ],
   "id": "a8da5ec0dc73a809",
   "outputs": [],
   "execution_count": null
  },
  {
   "metadata": {},
   "cell_type": "markdown",
   "source": "### Train RNN model on augmented EMNIST",
   "id": "6dbffb5e3c71d7f4"
  },
  {
   "metadata": {},
   "cell_type": "code",
   "source": [
    "from train import train_model\n",
    "\n",
    "model = train_model(\"rnn\", use_augmentation=True)"
   ],
   "id": "ae97b6bd675515dd",
   "outputs": [],
   "execution_count": null
  },
  {
   "metadata": {},
   "cell_type": "markdown",
   "source": "### Test NN model (trained on original EMNIST) on EMNIST and novel datasets",
   "id": "2c8fec1f984f450c"
  },
  {
   "cell_type": "code",
   "id": "d6ad77b79628c779",
   "metadata": {},
   "source": [
    "from test import test_model\n",
    "\n",
    "test_model(\"basenn\")"
   ],
   "outputs": [],
   "execution_count": null
  },
  {
   "metadata": {},
   "cell_type": "markdown",
   "source": "### Test Partial CNN model (trained on original EMNIST) on EMNIST and novel datasets",
   "id": "ba256cfbb1abbb2d"
  },
  {
   "cell_type": "code",
   "id": "504c04f96769b7fc",
   "metadata": {},
   "source": [
    "from test import test_model\n",
    "\n",
    "test_model(\"partialcnn\")"
   ],
   "outputs": [],
   "execution_count": null
  },
  {
   "metadata": {},
   "cell_type": "markdown",
   "source": "### Test Full CNN model (trained on original EMNIST) on EMNIST and novel datasets",
   "id": "21f97e16ed181412"
  },
  {
   "metadata": {},
   "cell_type": "code",
   "source": [
    "from test import test_model\n",
    "\n",
    "test_model(\"fullcnn\")"
   ],
   "id": "f7c4875572a6375c",
   "outputs": [],
   "execution_count": null
  },
  {
   "metadata": {},
   "cell_type": "markdown",
   "source": "### Test RNN model (trained on original EMNIST) on EMNIST and novel datasets",
   "id": "fcc6d005bc2b6ccc"
  },
  {
   "metadata": {},
   "cell_type": "code",
   "source": [
    "from test import test_model\n",
    "\n",
    "test_model(\"rnn\")"
   ],
   "id": "c4da4d5cd40cf287",
   "outputs": [],
   "execution_count": null
  },
  {
   "metadata": {},
   "cell_type": "markdown",
   "source": "### Test NN model (trained on augmented EMNIST) on EMNIST and novel datasets",
   "id": "7a18700e833d105"
  },
  {
   "metadata": {},
   "cell_type": "code",
   "source": [
    "from test import test_model\n",
    "\n",
    "test_model(\"basenn_augmented\")"
   ],
   "id": "fd2033674236547c",
   "outputs": [],
   "execution_count": null
  },
  {
   "metadata": {},
   "cell_type": "markdown",
   "source": "### Test Partial CNN model (trained on augmented EMNIST) on EMNIST and novel datasets",
   "id": "b481b30390fa1c15"
  },
  {
   "metadata": {},
   "cell_type": "code",
   "source": [
    "from test import test_model\n",
    "\n",
    "test_model(\"partialcnn_augmented\")"
   ],
   "id": "a916edba5d861cb6",
   "outputs": [],
   "execution_count": null
  },
  {
   "metadata": {},
   "cell_type": "markdown",
   "source": "### Test Full CNN model (trained on augmented EMNIST) on EMNIST and novel datasets",
   "id": "cef6e161e1fabc3f"
  },
  {
   "metadata": {},
   "cell_type": "code",
   "source": [
    "from test import test_model\n",
    "\n",
    "test_model(\"fullcnn_augmented\")"
   ],
   "id": "b3ec3c28cedc5135",
   "outputs": [],
   "execution_count": null
  },
  {
   "metadata": {},
   "cell_type": "markdown",
   "source": "### Test RNN model (trained on augmented EMNIST) on EMNIST and novel datasets",
   "id": "b60cce4c83e6d3f2"
  },
  {
   "metadata": {},
   "cell_type": "code",
   "source": [
    "from test import test_model\n",
    "\n",
    "test_model(\"rnn_augmented\")"
   ],
   "id": "36247d278d881eef",
   "outputs": [],
   "execution_count": null
  }
 ],
 "metadata": {
  "kernelspec": {
   "display_name": "Python 3 (ipykernel)",
   "language": "python",
   "name": "python3"
  },
  "language_info": {
   "codemirror_mode": {
    "name": "ipython",
    "version": 3
   },
   "file_extension": ".py",
   "mimetype": "text/x-python",
   "name": "python",
   "nbconvert_exporter": "python",
   "pygments_lexer": "ipython3",
   "version": "3.12.6"
  }
 },
 "nbformat": 4,
 "nbformat_minor": 5
}
